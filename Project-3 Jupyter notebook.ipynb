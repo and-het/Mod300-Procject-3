{
 "cells": [
  {
   "cell_type": "markdown",
   "id": "15aa2ca9",
   "metadata": {},
   "source": [
    "# Project 3"
   ]
  }
 ],
 "metadata": {
  "language_info": {
   "name": "python"
  }
 },
 "nbformat": 4,
 "nbformat_minor": 5
}
